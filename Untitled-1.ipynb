{
 "cells": [
  {
   "cell_type": "code",
   "execution_count": 2,
   "metadata": {},
   "outputs": [],
   "source": [
    "from bs4 import BeautifulSoup\n",
    "import requests\n",
    "url = 'https://en.wikipedia.org/wiki/List_of_largest_companies_in_Pakistan'\n"
   ]
  },
  {
   "cell_type": "code",
   "execution_count": null,
   "metadata": {},
   "outputs": [],
   "source": [
    "page = requests.get(url)\n",
    "soup = BeautifulSoup(page.text, 'html')\n",
    "print (soup)"
   ]
  },
  {
   "cell_type": "code",
   "execution_count": null,
   "metadata": {},
   "outputs": [],
   "source": [
    "table = soup.find_all('table')[1]\n",
    "print(table)"
   ]
  },
  {
   "cell_type": "code",
   "execution_count": 35,
   "metadata": {},
   "outputs": [],
   "source": [
    "soup.find('table', class_ = 'wikitable sortable jquery-tablesorter')\n",
    "# not working\n"
   ]
  },
  {
   "cell_type": "code",
   "execution_count": 36,
   "metadata": {},
   "outputs": [
    {
     "name": "stdout",
     "output_type": "stream",
     "text": [
      "['Group name', 'Headquarters', 'Publicly listed companies', 'Reference(s)', 'Rank', 'Name', 'Market cap (US$)', 'Headquarters', 'Industry', 'Reference(s)']\n"
     ]
    }
   ],
   "source": [
    "coulum_titles= soup.find_all('th')\n",
    "coulum_titles_striped = [title.text.strip() for title in coulum_titles]\n",
    "print (coulum_titles_striped)"
   ]
  },
  {
   "cell_type": "code",
   "execution_count": 37,
   "metadata": {},
   "outputs": [
    {
     "data": {
      "text/html": [
       "<div>\n",
       "<style scoped>\n",
       "    .dataframe tbody tr th:only-of-type {\n",
       "        vertical-align: middle;\n",
       "    }\n",
       "\n",
       "    .dataframe tbody tr th {\n",
       "        vertical-align: top;\n",
       "    }\n",
       "\n",
       "    .dataframe thead th {\n",
       "        text-align: right;\n",
       "    }\n",
       "</style>\n",
       "<table border=\"1\" class=\"dataframe\">\n",
       "  <thead>\n",
       "    <tr style=\"text-align: right;\">\n",
       "      <th></th>\n",
       "      <th>Group name</th>\n",
       "      <th>Headquarters</th>\n",
       "      <th>Publicly listed companies</th>\n",
       "      <th>Reference(s)</th>\n",
       "      <th>Rank</th>\n",
       "      <th>Name</th>\n",
       "      <th>Market cap (US$)</th>\n",
       "      <th>Headquarters</th>\n",
       "      <th>Industry</th>\n",
       "      <th>Reference(s)</th>\n",
       "    </tr>\n",
       "  </thead>\n",
       "  <tbody>\n",
       "  </tbody>\n",
       "</table>\n",
       "</div>"
      ],
      "text/plain": [
       "Empty DataFrame\n",
       "Columns: [Group name, Headquarters, Publicly listed companies, Reference(s), Rank, Name, Market cap (US$), Headquarters, Industry, Reference(s)]\n",
       "Index: []"
      ]
     },
     "execution_count": 37,
     "metadata": {},
     "output_type": "execute_result"
    }
   ],
   "source": [
    "import pandas as pd\n",
    "df = pd.DataFrame(columns=coulum_titles_striped)\n",
    "df"
   ]
  },
  {
   "cell_type": "code",
   "execution_count": null,
   "metadata": {},
   "outputs": [],
   "source": [
    "column_data = table.find_all('tr')\n",
    "print(column_data)"
   ]
  },
  {
   "cell_type": "code",
   "execution_count": 60,
   "metadata": {},
   "outputs": [
    {
     "name": "stdout",
     "output_type": "stream",
     "text": [
      "['1', 'Oil & Gas Development Company', 'Rs.\\xa0977.43 billion (US$3.4\\xa0billion)', 'Islamabad', 'Petroleum', '[2]']\n",
      "['2', 'Mari Petroleum', 'Rs.\\xa0863.98 billion (US$3.0\\xa0billion)', 'Islamabad', 'Petroleum', '[2]']\n",
      "['3', 'Pakistan Petroleum Limited', 'Rs.\\xa0553.85 billion (US$1.9\\xa0billion)', 'Karachi', 'Petroleum', '[2]']\n",
      "['4', 'United Bank Limited', 'Rs.\\xa0467.92 billion (US$1.6\\xa0billion)', 'Karachi', 'Banking', '[2]']\n",
      "['5', 'Fauji Fertilizer Company', 'Rs.\\xa0466.05 billion (US$1.6\\xa0billion)', 'Rawalpindi', 'Fertilizer', '[2]']\n",
      "['6', 'Meezan Bank', 'Rs.\\xa0433.43 billion (US$1.5\\xa0billion)', 'Karachi', 'Banking', '[2]']\n",
      "['7', 'Colgate-Palmolive Pakistan', 'Rs.\\xa0364.96 billion (US$1.3\\xa0billion)', 'Karachi', 'Fast-moving consumer goods', '[2]']\n",
      "['8', 'Pakistan Tobacco Company', 'Rs.\\xa0340.26 billion (US$1.2\\xa0billion)', 'Islamabad', 'Tobacco', '[2]']\n",
      "['9', 'Nestlé Pakistan', 'Rs.\\xa0337.85 billion (US$1.2\\xa0billion)', 'Lahore', 'Fast-moving consumer goods', '[2]']\n",
      "['10', 'MCB Bank', 'Rs.\\xa0333.36 billion (US$1.2\\xa0billion)', 'Lahore', 'Banking', '[2]']\n",
      "['11', 'Lucky Cement', 'Rs.\\xa0322.44 billion (US$1.1\\xa0billion)', 'Karachi', 'Cement', '[2]']\n",
      "['12', 'Engro Fertilizers', 'Rs.\\xa0272.65 billion (US$940\\xa0million)', 'Karachi', 'Fertilizer', '[2]']\n",
      "['13', 'Habib Bank Limited', 'Rs.\\xa0255.91 billion (US$890\\xa0million)', 'Karachi', 'Banking', '[2]']\n",
      "['14', 'Engro Corporation', 'Rs.\\xa0238.95 billion (US$830\\xa0million)', 'Karachi', 'Conglomerate', '[2]']\n",
      "['15', 'Bestway Cement', 'Rs.\\xa0213.89 billion (US$740\\xa0million)', 'Islamabad', 'Cement', '[2]']\n",
      "['16', 'Pakistan State Oil', 'Rs.\\xa0206.89 billion (US$720\\xa0million)', 'Karachi', 'Petroleum', '[2]']\n",
      "['17', 'Standard Chartered Pakistan', 'Rs.\\xa0205.19 billion (US$710\\xa0million)', 'Karachi', 'Banking', '[2]']\n",
      "['18', 'Systems Limited', 'Rs.\\xa0181.10 billion (US$630\\xa0million)', 'Lahore', 'Information technology', '[2]']\n",
      "['19', 'Pakistan Oilfields Limited', 'Rs.\\xa0179.29 billion (US$620\\xa0million)', 'Rawalpindi', 'Petroleum', '[2]']\n",
      "['20', 'Hub Power Company', 'Rs.\\xa0169.78 billion (US$590\\xa0million)', 'Karachi', 'Power generation', '[2]']\n"
     ]
    }
   ],
   "source": [
    "for row in column_data[1:]:\n",
    "    row = row.find_all('td')\n",
    "    individual_data = [data.text.strip() for data in row]\n",
    "    print(individual_data)\n",
    "    # length = len(df)\n",
    "    # df.loc[length] = individual_data"
   ]
  },
  {
   "cell_type": "code",
   "execution_count": 63,
   "metadata": {},
   "outputs": [
    {
     "name": "stdout",
     "output_type": "stream",
     "text": [
      "   Rank                           Name                     Market cap (US$)  \\\n",
      "0     1  Oil & Gas Development Company  Rs. 977.43 billion (US$3.4 billion)   \n",
      "1     2                 Mari Petroleum  Rs. 863.98 billion (US$3.0 billion)   \n",
      "2     3     Pakistan Petroleum Limited  Rs. 553.85 billion (US$1.9 billion)   \n",
      "3     4            United Bank Limited  Rs. 467.92 billion (US$1.6 billion)   \n",
      "4     5       Fauji Fertilizer Company  Rs. 466.05 billion (US$1.6 billion)   \n",
      "5     6                    Meezan Bank  Rs. 433.43 billion (US$1.5 billion)   \n",
      "6     7     Colgate-Palmolive Pakistan  Rs. 364.96 billion (US$1.3 billion)   \n",
      "7     8       Pakistan Tobacco Company  Rs. 340.26 billion (US$1.2 billion)   \n",
      "8     9                Nestlé Pakistan  Rs. 337.85 billion (US$1.2 billion)   \n",
      "9    10                       MCB Bank  Rs. 333.36 billion (US$1.2 billion)   \n",
      "10   11                   Lucky Cement  Rs. 322.44 billion (US$1.1 billion)   \n",
      "11   12              Engro Fertilizers  Rs. 272.65 billion (US$940 million)   \n",
      "12   13             Habib Bank Limited  Rs. 255.91 billion (US$890 million)   \n",
      "13   14              Engro Corporation  Rs. 238.95 billion (US$830 million)   \n",
      "14   15                 Bestway Cement  Rs. 213.89 billion (US$740 million)   \n",
      "15   16             Pakistan State Oil  Rs. 206.89 billion (US$720 million)   \n",
      "16   17    Standard Chartered Pakistan  Rs. 205.19 billion (US$710 million)   \n",
      "17   18                Systems Limited  Rs. 181.10 billion (US$630 million)   \n",
      "18   19     Pakistan Oilfields Limited  Rs. 179.29 billion (US$620 million)   \n",
      "19   20              Hub Power Company  Rs. 169.78 billion (US$590 million)   \n",
      "\n",
      "   Headquarters                    Industry Reference(s)  \n",
      "0     Islamabad                   Petroleum          [2]  \n",
      "1     Islamabad                   Petroleum          [2]  \n",
      "2       Karachi                   Petroleum          [2]  \n",
      "3       Karachi                     Banking          [2]  \n",
      "4    Rawalpindi                  Fertilizer          [2]  \n",
      "5       Karachi                     Banking          [2]  \n",
      "6       Karachi  Fast-moving consumer goods          [2]  \n",
      "7     Islamabad                     Tobacco          [2]  \n",
      "8        Lahore  Fast-moving consumer goods          [2]  \n",
      "9        Lahore                     Banking          [2]  \n",
      "10      Karachi                      Cement          [2]  \n",
      "11      Karachi                  Fertilizer          [2]  \n",
      "12      Karachi                     Banking          [2]  \n",
      "13      Karachi                Conglomerate          [2]  \n",
      "14    Islamabad                      Cement          [2]  \n",
      "15      Karachi                   Petroleum          [2]  \n",
      "16      Karachi                     Banking          [2]  \n",
      "17       Lahore      Information technology          [2]  \n",
      "18   Rawalpindi                   Petroleum          [2]  \n",
      "19      Karachi            Power generation          [2]  \n"
     ]
    }
   ],
   "source": [
    "from bs4 import BeautifulSoup\n",
    "import requests\n",
    "import pandas as pd\n",
    "\n",
    "# Wikipedia page URL\n",
    "url = 'https://en.wikipedia.org/wiki/List_of_largest_companies_in_Pakistan'\n",
    "\n",
    "# Fetch the page\n",
    "page = requests.get(url)\n",
    "soup = BeautifulSoup(page.text, 'html.parser')  # Fix parser name\n",
    "\n",
    "# Find all tables and select the correct one\n",
    "tables = soup.find_all('table', {'class': 'wikitable'})  # Selects all Wikipedia tables\n",
    "if len(tables) < 1:\n",
    "    print(\"No tables found on the page\")\n",
    "    exit()\n",
    "\n",
    "table = tables[1]  # Select the first table (adjust if needed)\n",
    "\n",
    "# Extract column headers from the selected table\n",
    "headers = [header.text.strip() for header in table.find_all('th')]\n",
    "df = pd.DataFrame(columns=headers)  # Create an empty DataFrame with correct headers\n",
    "\n",
    "# Extract rows\n",
    "rows = table.find_all('tr')[1:]  # Skip the header row\n",
    "\n",
    "for row in rows:\n",
    "    columns = row.find_all('td')\n",
    "    row_data = [col.text.strip() for col in columns]\n",
    "\n",
    "    # Ensure row data matches the number of columns\n",
    "    if len(row_data) == len(df.columns):\n",
    "        df.loc[len(df)] = row_data\n",
    "    else:\n",
    "        print(f\"Skipping row due to column mismatch: {row_data}\")\n",
    "\n",
    "# Display DataFrame\n",
    "print(df)\n",
    "\n",
    "# Save to CSV (optional)\n",
    "df.to_csv(r'C:\\Users\\dell\\OneDrive\\Power BI\\companies.csv', index= False)\n"
   ]
  }
 ],
 "metadata": {
  "kernelspec": {
   "display_name": "Python 3",
   "language": "python",
   "name": "python3"
  },
  "language_info": {
   "codemirror_mode": {
    "name": "ipython",
    "version": 3
   },
   "file_extension": ".py",
   "mimetype": "text/x-python",
   "name": "python",
   "nbconvert_exporter": "python",
   "pygments_lexer": "ipython3",
   "version": "3.11.5"
  }
 },
 "nbformat": 4,
 "nbformat_minor": 2
}
